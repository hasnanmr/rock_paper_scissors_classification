{
  "cells": [
    {
      "cell_type": "markdown",
      "metadata": {
        "id": "5o6bHH9c-DYz"
      },
      "source": [
        "# MUHAMMAD HASNAN RAMADHAN"
      ]
    },
    {
      "cell_type": "markdown",
      "metadata": {
        "id": "CCFHJ2ET6OCb"
      },
      "source": [
        "## Import Library"
      ]
    },
    {
      "cell_type": "code",
      "execution_count": null,
      "metadata": {
        "colab": {
          "base_uri": "https://localhost:8080/"
        },
        "id": "DDA6OsfcbhOl",
        "outputId": "41f865b2-8372-45fc-b83c-dafbcfb49e08"
      },
      "outputs": [],
      "source": [
        "import tensorflow as tf\n",
        "print(tf.__version__)\n",
        "import os\n",
        "import zipfile\n",
        "import numpy as np\n",
        "from sklearn.metrics import classification_report, confusion_matrix\n",
        "from google.colab import files\n",
        "from tensorflow.keras.preprocessing import image\n",
        "import matplotlib.pyplot as plt\n",
        "import matplotlib.image as mpimg"
      ]
    },
    {
      "cell_type": "markdown",
      "metadata": {
        "id": "UpnzDG1Ho8Pd"
      },
      "source": [
        "## Import Dataset"
      ]
    },
    {
      "cell_type": "code",
      "execution_count": null,
      "metadata": {
        "colab": {
          "base_uri": "https://localhost:8080/"
        },
        "id": "IL5--dagaJrm",
        "outputId": "524dc3be-3a38-44b7-c394-1bcf4582e407"
      },
      "outputs": [],
      "source": [
        "!wget --no-check-certificate \\\n",
        "      https://github.com/dicodingacademy/assets/releases/download/release/rockpaperscissors.zip \\\n",
        "      -O /tmp/rockpaperscissors.zip"
      ]
    },
    {
      "cell_type": "code",
      "execution_count": null,
      "metadata": {
        "id": "AkABWpAUDL-K"
      },
      "outputs": [],
      "source": [
        "# melakukan ekstraksi pada file zip\n",
        "local_zip = '/tmp/rockpaperscissors.zip'\n",
        "zip_ref = zipfile.ZipFile(local_zip, 'r')\n",
        "zip_ref.extractall('/tmp')\n",
        "zip_ref.close()"
      ]
    },
    {
      "cell_type": "code",
      "execution_count": null,
      "metadata": {
        "id": "qNCP1S3OSurV"
      },
      "outputs": [],
      "source": [
        "base_dir = '/tmp/rockpaperscissors'\n",
        "train_dir = os.path.join(base_dir, 'rps-cv-images')\n",
        "validation_dir = os.path.join(base_dir, 'rps-cv-images')"
      ]
    },
    {
      "cell_type": "code",
      "execution_count": null,
      "metadata": {
        "colab": {
          "base_uri": "https://localhost:8080/"
        },
        "id": "iSmXqIATZGU_",
        "outputId": "3191a4c9-d386-49b3-ee99-46b36891261f"
      },
      "outputs": [],
      "source": [
        "os.listdir('/tmp/rockpaperscissors/rps-cv-images')"
      ]
    },
    {
      "cell_type": "code",
      "execution_count": null,
      "metadata": {
        "id": "a7HplHU-XJL0"
      },
      "outputs": [],
      "source": [
        "# Directory for training pictures\n",
        "train_rock_dir = os.path.join(train_dir, 'rock')\n",
        "train_paper_dir = os.path.join(train_dir, 'paper')\n",
        "train_scissors_dir = os.path.join(train_dir, 'scissors')"
      ]
    },
    {
      "cell_type": "code",
      "execution_count": null,
      "metadata": {
        "id": "ryoov2OYYOSo"
      },
      "outputs": [],
      "source": [
        "# Directory for validation picture\n",
        "val_rock_dir = os.path.join(validation_dir, 'rock')\n",
        "val_paper_dir = os.path.join(validation_dir, 'paper')\n",
        "val_scissors_dir = os.path.join(validation_dir, 'scissors')"
      ]
    },
    {
      "cell_type": "markdown",
      "metadata": {
        "id": "xBEw4iZek17w"
      },
      "source": [
        "## Images Augmentation"
      ]
    },
    {
      "cell_type": "code",
      "execution_count": null,
      "metadata": {
        "colab": {
          "base_uri": "https://localhost:8080/"
        },
        "id": "nKLztwLpfPVF",
        "outputId": "87b9436e-6b06-498a-d58b-89eb70cd701b"
      },
      "outputs": [],
      "source": [
        "from tensorflow.keras.preprocessing.image import ImageDataGenerator\n",
        "\n",
        "train_datagen = ImageDataGenerator(\n",
        "                rescale=1.0/255,\n",
        "                rotation_range=20,\n",
        "                horizontal_flip=True,\n",
        "                shear_range = 0.2,\n",
        "                fill_mode = 'nearest',\n",
        "                validation_split=0.4)\n",
        "\n",
        "test_datagen = ImageDataGenerator(\n",
        "                        rescale=1./255)\n",
        "\n",
        "# validation_datagen = ImageDataGenerator(rescale = 1.0/255,\n",
        "#                                         validation_split=0.4)\n",
        "\n",
        "train_generator = train_datagen.flow_from_directory(\n",
        "        train_dir,\n",
        "        target_size=(100,150),\n",
        "        batch_size=32,\n",
        "        class_mode='categorical',\n",
        "        subset='training')\n",
        "\n",
        "validation_generator = train_datagen.flow_from_directory(\n",
        "        validation_dir,\n",
        "        target_size=(100,150),\n",
        "        batch_size=32,\n",
        "        class_mode='categorical',\n",
        "        subset='validation')"
      ]
    },
    {
      "cell_type": "markdown",
      "metadata": {
        "id": "uxnlvCaUk6lr"
      },
      "source": [
        "## Construct a model for CNN"
      ]
    },
    {
      "cell_type": "code",
      "execution_count": null,
      "metadata": {
        "colab": {
          "base_uri": "https://localhost:8080/"
        },
        "id": "XFfIJQfTkA56",
        "outputId": "78ebb8d8-5a3c-476c-ea59-a8174958e16e"
      },
      "outputs": [],
      "source": [
        "model = tf.keras.models.Sequential([\n",
        "    tf.keras.layers.Conv2D(32, (3, 3), activation='relu', kernel_initializer='he_normal', input_shape=(100, 150, 3)),\n",
        "    tf.keras.layers.MaxPooling2D(2, 2),\n",
        "    tf.keras.layers.Conv2D(64, (3, 3), activation='relu', kernel_initializer='he_normal'),\n",
        "    tf.keras.layers.MaxPooling2D(2, 2),\n",
        "    tf.keras.layers.Conv2D(128, (3, 3), activation='relu', kernel_initializer='he_normal'),\n",
        "    tf.keras.layers.MaxPooling2D(2, 2),\n",
        "    tf.keras.layers.Flatten(),\n",
        "    tf.keras.layers.Dense(512, activation='relu', kernel_initializer='he_normal'),\n",
        "    tf.keras.layers.Dropout(0.5),\n",
        "    tf.keras.layers.Dense(3, activation='softmax')\n",
        "])\n",
        "\n",
        "print(model.summary())"
      ]
    },
    {
      "cell_type": "markdown",
      "metadata": {
        "id": "WDk0AT0Km8tg"
      },
      "source": [
        "## Compile a model"
      ]
    },
    {
      "cell_type": "code",
      "execution_count": null,
      "metadata": {
        "id": "vyFTlIFamd7L"
      },
      "outputs": [],
      "source": [
        "# compile model dengan 'nadam' optimizer and loss function 'categorical_crossentropy'\n",
        "from tensorflow.keras.optimizers import Nadam\n",
        "\n",
        "model.compile(loss='categorical_crossentropy',\n",
        "              optimizer = Nadam(lr=0.001),\n",
        "              metrics=['accuracy'])"
      ]
    },
    {
      "cell_type": "markdown",
      "metadata": {
        "id": "sh-_0lRDpfqG"
      },
      "source": [
        "## Train a model using model.fit"
      ]
    },
    {
      "cell_type": "code",
      "execution_count": null,
      "metadata": {
        "colab": {
          "base_uri": "https://localhost:8080/"
        },
        "id": "hCBd1JcjpfAd",
        "outputId": "35eef8f6-fbbc-4d45-ab09-a17ae6378962"
      },
      "outputs": [],
      "source": [
        "# latih model dengan model.fit\n",
        "history = model.fit(\n",
        "      train_generator,\n",
        "      steps_per_epoch=20,  # berapa batch yang akan dieksekusi pada setiap epoch\n",
        "      epochs=17, # tambahkan epochs jika akurasi model belum optimal\n",
        "      validation_data=validation_generator, # menampilkan akurasi pengujian data validasi\n",
        "      validation_steps=5,  # berapa batch yang akan dieksekusi pada setiap epoch\n",
        "      verbose=1,\n",
        "  )"
      ]
    },
    {
      "cell_type": "markdown",
      "metadata": {
        "id": "7PlHy-vzUZb7"
      },
      "source": [
        "## Evaluate the model"
      ]
    },
    {
      "cell_type": "code",
      "execution_count": null,
      "metadata": {
        "colab": {
          "base_uri": "https://localhost:8080/"
        },
        "id": "jUHtq6TRzslS",
        "outputId": "93765935-82cf-4725-d8fa-24c850bd668a"
      },
      "outputs": [],
      "source": [
        "evaluation = model.evaluate(train_generator)\n",
        "print(\"Accuracy: {:.4f}\".format(evaluation[1]))\n",
        "print(\"Loss: {:.4f}\".format(evaluation[0]))"
      ]
    },
    {
      "cell_type": "code",
      "execution_count": null,
      "metadata": {
        "colab": {
          "base_uri": "https://localhost:8080/"
        },
        "id": "YFaPLKreUoN9",
        "outputId": "10067276-a0c8-4c08-f4ee-6445b0884fda"
      },
      "outputs": [],
      "source": [
        "evaluation_2 = model.evaluate(validation_generator)\n",
        "print(\"Accuracy: {:.4f}\".format(evaluation_2[1]))\n",
        "print(\"Loss: {:.4f}\".format(evaluation_2[0]))"
      ]
    },
    {
      "cell_type": "markdown",
      "metadata": {
        "id": "9mPoNCr82SST"
      },
      "source": [
        "## Visualize accuracy of the result of the model"
      ]
    },
    {
      "cell_type": "code",
      "execution_count": null,
      "metadata": {
        "colab": {
          "base_uri": "https://localhost:8080/",
          "height": 927
        },
        "id": "MeMuMlCg1ya8",
        "outputId": "56fc1d17-0d0d-41d3-e72b-f7cda6b72684"
      },
      "outputs": [],
      "source": [
        "import matplotlib.pyplot as plt\n",
        "\n",
        "acc = history.history['accuracy']\n",
        "val_acc = history.history['val_accuracy']\n",
        "loss = history.history['loss']\n",
        "val_loss = history.history['val_loss']\n",
        "\n",
        "epochs = range(1, len(acc) + 1)\n",
        "\n",
        "# Plot Akurasi\n",
        "plt.plot(epochs, acc, 'b', label='Training Accuracy')\n",
        "plt.plot(epochs, val_acc, 'r', label='Validation Accuracy')\n",
        "plt.title('Training and Validation Accuracy')\n",
        "plt.xlabel('Epochs')\n",
        "plt.ylabel('Accuracy')\n",
        "plt.legend()\n",
        "\n",
        "plt.figure()\n",
        "\n",
        "# Plot Loss\n",
        "plt.plot(epochs, loss, 'b', label='Training Loss')\n",
        "plt.plot(epochs, val_loss, 'r', label='Validation Loss')\n",
        "plt.title('Training and Validation Loss')\n",
        "plt.xlabel('Epochs')\n",
        "plt.ylabel('Loss')\n",
        "plt.legend()\n",
        "\n",
        "plt.show()"
      ]
    },
    {
      "cell_type": "markdown",
      "metadata": {
        "id": "d7wdGPSE97_3"
      },
      "source": [
        "## TEST THE MODEL WITH YOUR OWN PHOTOS HERE!"
      ]
    },
    {
      "cell_type": "code",
      "execution_count": null,
      "metadata": {
        "colab": {
          "base_uri": "https://localhost:8080/",
          "height": 505
        },
        "id": "wCAp22QS5Red",
        "outputId": "dec8f94a-85a5-44c3-c733-7f7dbb690480"
      },
      "outputs": [],
      "source": [
        "uploaded = files.upload()\n",
        "\n",
        "for fn in uploaded.keys():\n",
        "\n",
        "  # predicting images\n",
        "  path = fn\n",
        "  img = image.load_img(path, target_size=(100,150))\n",
        "\n",
        "  imgplot = plt.imshow(img)\n",
        "  x = image.img_to_array(img)\n",
        "  x = np.expand_dims(x, axis=0)\n",
        "  images = np.vstack([x])\n",
        "\n",
        "  classes = model.predict(images, batch_size=25)\n",
        "  print(fn)\n",
        "  if classes[0,0] == 1:\n",
        "    print(\"It's PAPER!\")\n",
        "  elif classes[0,1] == 1:\n",
        "    print((\"It's ROCK!\"))\n",
        "  elif classes[0,2] == 1:\n",
        "    print(\"It's Scissors!\")"
      ]
    }
  ],
  "metadata": {
    "colab": {
      "provenance": []
    },
    "kernelspec": {
      "display_name": "Python 3",
      "name": "python3"
    },
    "language_info": {
      "codemirror_mode": {
        "name": "ipython",
        "version": 3
      },
      "file_extension": ".py",
      "mimetype": "text/x-python",
      "name": "python",
      "nbconvert_exporter": "python",
      "pygments_lexer": "ipython3",
      "version": "3.11.5"
    }
  },
  "nbformat": 4,
  "nbformat_minor": 0
}
